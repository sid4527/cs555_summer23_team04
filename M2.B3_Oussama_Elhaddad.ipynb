pip install python-gedcom

pip install tabulate

### gedcom library

from gedcom.parser import Parser
from gedcom.element.individual import IndividualElement
from gedcom.element.family import FamilyElement
import pandas as pd
import numpy as np
from tabulate import tabulate
import datetime
from datetime import date

import warnings
warnings.filterwarnings("ignore")



def calculateAge(birthDate, deathDate):
    
      age = deathDate.year - birthDate.year - ((deathDate.month, deathDate.day) <
            (birthDate.month, birthDate.day))
         
 
      return age
